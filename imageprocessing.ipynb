{
 "cells": [
  {
   "cell_type": "code",
   "execution_count": 22,
   "id": "f1f204f6-6e4a-4747-9657-c48a8fcc6723",
   "metadata": {},
   "outputs": [
    {
     "name": "stdout",
     "output_type": "stream",
     "text": [
      "Requirement already satisfied: opencv-python in c:\\users\\andis\\anaconda3\\lib\\site-packages (4.8.1.78)\n",
      "Requirement already satisfied: numpy>=1.21.2 in c:\\users\\andis\\anaconda3\\lib\\site-packages (from opencv-python) (1.26.2)\n",
      "Note: you may need to restart the kernel to use updated packages.\n"
     ]
    }
   ],
   "source": [
    "pip install opencv-python"
   ]
  },
  {
   "cell_type": "code",
   "execution_count": 23,
   "id": "77004b5f-6896-47ba-a3f5-72c643a7e1d2",
   "metadata": {},
   "outputs": [
    {
     "name": "stdout",
     "output_type": "stream",
     "text": [
      "Requirement already satisfied: numpy in c:\\users\\andis\\anaconda3\\lib\\site-packages (1.26.2)Note: you may need to restart the kernel to use updated packages.\n",
      "\n"
     ]
    }
   ],
   "source": [
    "pip install numpy"
   ]
  },
  {
   "cell_type": "code",
   "execution_count": 24,
   "id": "19858121-0322-47a9-8e88-26c2b64be239",
   "metadata": {},
   "outputs": [
    {
     "name": "stdout",
     "output_type": "stream",
     "text": [
      "Requirement already satisfied: matplotlib in c:\\users\\andis\\anaconda3\\lib\\site-packages (3.8.0)Note: you may need to restart the kernel to use updated packages.\n",
      "\n",
      "Requirement already satisfied: contourpy>=1.0.1 in c:\\users\\andis\\anaconda3\\lib\\site-packages (from matplotlib) (1.2.0)\n",
      "Requirement already satisfied: cycler>=0.10 in c:\\users\\andis\\anaconda3\\lib\\site-packages (from matplotlib) (0.11.0)\n",
      "Requirement already satisfied: fonttools>=4.22.0 in c:\\users\\andis\\anaconda3\\lib\\site-packages (from matplotlib) (4.25.0)\n",
      "Requirement already satisfied: kiwisolver>=1.0.1 in c:\\users\\andis\\anaconda3\\lib\\site-packages (from matplotlib) (1.4.4)\n",
      "Requirement already satisfied: numpy<2,>=1.21 in c:\\users\\andis\\anaconda3\\lib\\site-packages (from matplotlib) (1.26.2)\n",
      "Requirement already satisfied: packaging>=20.0 in c:\\users\\andis\\appdata\\roaming\\python\\python311\\site-packages (from matplotlib) (23.2)\n",
      "Requirement already satisfied: pillow>=6.2.0 in c:\\users\\andis\\anaconda3\\lib\\site-packages (from matplotlib) (10.0.1)\n",
      "Requirement already satisfied: pyparsing>=2.3.1 in c:\\users\\andis\\anaconda3\\lib\\site-packages (from matplotlib) (3.0.9)\n",
      "Requirement already satisfied: python-dateutil>=2.7 in c:\\users\\andis\\appdata\\roaming\\python\\python311\\site-packages (from matplotlib) (2.8.2)\n",
      "Requirement already satisfied: six>=1.5 in c:\\users\\andis\\appdata\\roaming\\python\\python311\\site-packages (from python-dateutil>=2.7->matplotlib) (1.16.0)\n"
     ]
    }
   ],
   "source": [
    "pip install matplotlib"
   ]
  },
  {
   "cell_type": "code",
   "execution_count": 2,
   "id": "87fcbd9d-9b0e-4e11-a373-bd4047629ab0",
   "metadata": {},
   "outputs": [],
   "source": [
    "import cv2\n",
    "import numpy as np\n",
    "import matplotlib.pyplot as plt"
   ]
  },
  {
   "cell_type": "code",
   "execution_count": 9,
   "id": "c1ce3a60-e86e-40a5-8b1d-805fe2b78a9c",
   "metadata": {},
   "outputs": [],
   "source": [
    "img = cv2.imread('C:\\\\Users\\\\andis\\\\Desktop\\\\parrot.webp')\n",
    "cv2.imshow(\"parrot\", img)\n",
    "cv2.waitKey(0)\n",
    "cv2.destroyAllWindows()"
   ]
  },
  {
   "cell_type": "code",
   "execution_count": 5,
   "id": "e88d874f-c2de-4847-a79a-c21216476313",
   "metadata": {},
   "outputs": [],
   "source": [
    "# 1. Gri Dönüşüm\n",
    "grayscale_image = cv2.cvtColor(img, cv2.COLOR_BGR2GRAY)\n",
    "cv2.imshow('Grayscale Image',  grayscale_image)\n",
    "cv2.waitKey(0)\n",
    "cv2.destroyAllWindows()"
   ]
  },
  {
   "cell_type": "code",
   "execution_count": 49,
   "id": "824f0f61-ed39-439f-83e6-c9cd6656f98e",
   "metadata": {},
   "outputs": [],
   "source": [
    "# 2. Binary Dönüşüm\n",
    "_, binary_image = cv2.threshold(grayscale_image, 128, 255, cv2.THRESH_BINARY)\n",
    "cv2.imshow('Binary Image', binary_image)\n",
    "cv2.waitKey(0)\n",
    "cv2.destroyAllWindows()"
   ]
  },
  {
   "cell_type": "code",
   "execution_count": null,
   "id": "1d0f9c01-0c1e-4258-a108-5d89d2cd8514",
   "metadata": {},
   "outputs": [],
   "source": []
  },
  {
   "cell_type": "code",
   "execution_count": 50,
   "id": "8ec34edb-d1c2-482a-9e42-5e67c786362d",
   "metadata": {},
   "outputs": [],
   "source": [
    "# 3. Görüntü Döndürme\n",
    "def rotate_image(img, angle):\n",
    "    rows, cols = image.shape[:2]\n",
    "    rotation_matrix = cv2.getRotationMatrix2D((cols/2, rows/2), angle, 1)\n",
    "    rotated_image = cv2.warpAffine(image, rotation_matrix, (cols, rows))\n",
    "    return rotated_image"
   ]
  },
  {
   "cell_type": "code",
   "execution_count": 12,
   "id": "fc25f13a-152e-4ca7-a441-c35223a93e70",
   "metadata": {},
   "outputs": [],
   "source": [
    "# 4. Görüntü Kırpma\n",
    "def crop_image(image, x, y, width, height):\n",
    "    cropped_image = image[y:y+height, x:x+width]\n",
    "    return cropped_image"
   ]
  },
  {
   "cell_type": "code",
   "execution_count": 13,
   "id": "97b993c6-c968-4f8a-935a-e57c6d4c086f",
   "metadata": {},
   "outputs": [],
   "source": [
    "# 5. Görüntü Yaklaştırma/Uzaklaştırma\n",
    "def resize_image(image, scale):\n",
    "    resized_image = cv2.resize(image, None, fx=scale, fy=scale, interpolation=cv2.INTER_LINEAR)\n",
    "    return resized_image\n"
   ]
  },
  {
   "cell_type": "code",
   "execution_count": 10,
   "id": "4d8d5fbd-8fc0-4de6-9cd7-336533307938",
   "metadata": {},
   "outputs": [],
   "source": [
    "# 6. Renk Uzayı Dönüşümleri\n",
    "converted_image = cv2.cvtColor(img, cv2.COLOR_BGR2GRAY)\n",
    "cv2.imshow('converted_image', converted_image)\n",
    "cv2.waitKey(0)\n",
    "cv2.destroyAllWindows()"
   ]
  },
  {
   "cell_type": "code",
   "execution_count": 15,
   "id": "12caaf66-3998-4c40-b626-41693d0bf408",
   "metadata": {},
   "outputs": [],
   "source": [
    "# 7. Histogram Germe/Genişletme\n",
    "def stretch_histogram(image):\n",
    "    stretched_image = cv2.equalizeHist(image)\n",
    "    return stretched_image\n"
   ]
  },
  {
   "cell_type": "code",
   "execution_count": 16,
   "id": "c070ffd8-6dbf-4380-a4b7-26941c47c5cd",
   "metadata": {},
   "outputs": [],
   "source": [
    "# 8. İki resim arasında aritmetik işlemler (ekleme, bölme)\n",
    "def perform_arithmetic_operation(image1, image2, operation):\n",
    "    if operation == 'add':\n",
    "        result_image = cv2.add(image1, image2)\n",
    "    elif operation == 'divide':\n",
    "        result_image = cv2.divide(image1, image2)\n",
    "    return result_image"
   ]
  },
  {
   "cell_type": "code",
   "execution_count": 17,
   "id": "d75d4738-d807-40d5-8f19-d37a0920e4ea",
   "metadata": {},
   "outputs": [],
   "source": [
    "# 9. Kontrast Artırma\n",
    "def enhance_contrast(image):\n",
    "    clahe = cv2.createCLAHE(clipLimit=2.0, tileGridSize=(8,8))\n",
    "    contrast_enhanced_image = clahe.apply(image)\n",
    "    return contrast_enhanced_image\n"
   ]
  },
  {
   "cell_type": "code",
   "execution_count": 18,
   "id": "5b55c911-ed6e-4fcc-9c46-e31bb9c4e115",
   "metadata": {},
   "outputs": [],
   "source": [
    "# 10. Konvolüsyon İşlemi (Mean)\n",
    "def apply_mean_filter(image, kernel_size):\n",
    "    mean_filtered_image = cv2.blur(image, (kernel_size, kernel_size))\n",
    "    return mean_filtered_image\n"
   ]
  },
  {
   "cell_type": "code",
   "execution_count": 19,
   "id": "9c717c63-6f64-42c8-8d3f-67c2d281afca",
   "metadata": {},
   "outputs": [],
   "source": [
    "# 11. Eşikleme İşlemleri (Tek Eşikleme)\n",
    "def apply_thresholding(image, threshold):\n",
    "    _, thresholded_image = cv2.threshold(image, threshold, 255, cv2.THRESH_BINARY)\n",
    "    return thresholded_image"
   ]
  },
  {
   "cell_type": "code",
   "execution_count": 20,
   "id": "207c66c1-6538-4aaa-a984-5810173c9f6a",
   "metadata": {},
   "outputs": [],
   "source": [
    "# 12. Kenar Bulma Algoritmalarının Kullanımı (Prewitt)\n",
    "def apply_prewitt_edge_detection(image):\n",
    "    prewitt_x = cv2.Sobel(image, cv2.CV_64F, 1, 0, ksize=3)\n",
    "    prewitt_y = cv2.Sobel(image, cv2.CV_64F, 0, 1, ksize=3)\n",
    "    prewitt_edges = cv2.magnitude(prewitt_x, prewitt_y)\n",
    "    return prewitt_edges"
   ]
  },
  {
   "cell_type": "code",
   "execution_count": 21,
   "id": "8f7fab4b-cd61-4e64-be86-05a53eda5a2f",
   "metadata": {},
   "outputs": [],
   "source": [
    "# 12. Kenar Bulma Algoritmalarının Kullanımı (Prewitt)\n",
    "def apply_prewitt_edge_detection(image):\n",
    "    prewitt_x = cv2.Sobel(image, cv2.CV_64F, 1, 0, ksize=3)\n",
    "    prewitt_y = cv2.Sobel(image, cv2.CV_64F, 0, 1, ksize=3)\n",
    "    prewitt_edges = cv2.magnitude(prewitt_x, prewitt_y)\n",
    "    return prewitt_edges"
   ]
  },
  {
   "cell_type": "code",
   "execution_count": 22,
   "id": "7fb7599d-7bd2-49d8-a222-5b5d7f414f9d",
   "metadata": {},
   "outputs": [],
   "source": [
    "# 13. Görüntüye Gürültü Ekleme (Salt&Pepper) ve Filtrelerin Kullanımı (Mean, Median)\n",
    "def add_salt_and_pepper_noise(image, noise_amount):\n",
    "    row, col = image.shape\n",
    "    salt_and_pepper_noise = np.random.rand(row, col)\n",
    "    noisy_image = image.copy()\n",
    "\n",
    "    noisy_image[salt_and_pepper_noise < noise_amount] = 0\n",
    "    noisy_image[salt_and_pepper_noise > 1 - noise_amount] = 255\n",
    "\n",
    "    return noisy_image\n",
    "\n",
    "def apply_mean_filter_to_noise(image, kernel_size):\n",
    "    mean_filtered_image = cv2.blur(image, (kernel_size, kernel_size))\n",
    "    return mean_filtered_image\n",
    "\n",
    "def apply_median_filter_to_noise(image, kernel_size):\n",
    "    median_filtered_image = cv2.medianBlur(image, kernel_size)\n",
    "    return median_filtered_image\n"
   ]
  },
  {
   "cell_type": "code",
   "execution_count": 23,
   "id": "d8c9df95-4ee2-4ed8-8e82-415d442a80e5",
   "metadata": {},
   "outputs": [],
   "source": [
    "# 14. Görüntüye Filtre Uygulanması (Unsharp)\n",
    "def apply_unsharp_mask(image):\n",
    "    gaussian_blurred = cv2.GaussianBlur(image, (0,0), 3)\n",
    "    unsharp_mask = cv2.addWeighted(image, 1.5, gaussian_blurred, -0.5, 0)\n",
    "    return unsharp_mask"
   ]
  },
  {
   "cell_type": "code",
   "execution_count": 24,
   "id": "39024890-39f9-4b66-afe7-7826fe064abc",
   "metadata": {},
   "outputs": [],
   "source": [
    "# 15. Morfolojik İşlemler (Genişleme, Aşınma, Açma, Kapama)\n",
    "def perform_morphological_operations(image, operation, kernel):\n",
    "    if operation == 'dilate':\n",
    "        morph_image = cv2.dilate(image, kernel, iterations=1)\n",
    "    elif operation == 'erode':\n",
    "        morph_image = cv2.erode(image, kernel, iterations=1)\n",
    "    elif operation == 'opening':\n",
    "        morph_image = cv2.morphologyEx(image, cv2.MORPH_OPEN, kernel)\n",
    "    elif operation == 'closing':\n",
    "        morph_image = cv2.morphologyEx(image, cv2.MORPH_CLOSE, kernel)\n",
    "    return morph_image"
   ]
  },
  {
   "cell_type": "code",
   "execution_count": null,
   "id": "d40e1ffa-9a62-4489-9e51-96a6122eeb32",
   "metadata": {},
   "outputs": [],
   "source": []
  }
 ],
 "metadata": {
  "kernelspec": {
   "display_name": "Python 3 (ipykernel)",
   "language": "python",
   "name": "python3"
  },
  "language_info": {
   "codemirror_mode": {
    "name": "ipython",
    "version": 3
   },
   "file_extension": ".py",
   "mimetype": "text/x-python",
   "name": "python",
   "nbconvert_exporter": "python",
   "pygments_lexer": "ipython3",
   "version": "3.11.5"
  }
 },
 "nbformat": 4,
 "nbformat_minor": 5
}
